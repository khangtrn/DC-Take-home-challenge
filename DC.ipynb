{
  "nbformat": 4,
  "nbformat_minor": 0,
  "metadata": {
    "colab": {
      "provenance": [],
      "authorship_tag": "ABX9TyNnmNebqW5+h2udP11VarDm",
      "include_colab_link": true
    },
    "kernelspec": {
      "name": "python3",
      "display_name": "Python 3"
    },
    "language_info": {
      "name": "python"
    }
  },
  "cells": [
    {
      "cell_type": "markdown",
      "metadata": {
        "id": "view-in-github",
        "colab_type": "text"
      },
      "source": [
        "<a href=\"https://colab.research.google.com/github/khangtrn/DC-Take-home-challenge/blob/main/DC.ipynb\" target=\"_parent\"><img src=\"https://colab.research.google.com/assets/colab-badge.svg\" alt=\"Open In Colab\"/></a>"
      ]
    },
    {
      "cell_type": "markdown",
      "source": [
        "# Import libraries\n"
      ],
      "metadata": {
        "id": "Hv-akZQ91GIp"
      }
    },
    {
      "cell_type": "code",
      "source": [
        "import numpy as np\n",
        "import pandas as pd\n",
        "import tensorflow as tf\n",
        "from tensorflow.keras.layers import Embedding, Input, dot, concatenate, Flatten\n",
        "from tensorflow.keras.models import Model\n",
        "from sklearn.model_selection import train_test_split\n",
        "import matplotlib.pyplot as plt"
      ],
      "metadata": {
        "id": "VRmlbXay1Riy"
      },
      "execution_count": 19,
      "outputs": []
    },
    {
      "cell_type": "markdown",
      "source": [
        "# Read data\n",
        "due to some mistake, a column call \"Unnamed: 0\" is created, we just need to delete it"
      ],
      "metadata": {
        "id": "2qZpqYR0D82n"
      }
    },
    {
      "cell_type": "code",
      "source": [
        "# Read movies data\n",
        "movies_df = pd.read_csv('movies.csv')\n",
        "# Read ratings data\n",
        "ratings_df = pd.read_csv('ratings.csv')\n",
        "del ratings_df['Unnamed: 0']\n",
        "movie = ratings_df['movieId'].unique()"
      ],
      "metadata": {
        "id": "qHXDd_dz1YzY"
      },
      "execution_count": 274,
      "outputs": []
    },
    {
      "cell_type": "markdown",
      "source": [
        "# Split dataset for training: X preresent user ID and movie ID, Y preresent rating"
      ],
      "metadata": {
        "id": "0YOaVfS0EUwS"
      }
    },
    {
      "cell_type": "code",
      "source": [
        "X = ratings_df.iloc[:,:2]\n",
        "Y = ratings_df.iloc[:,2]\n",
        "x_train, x_test, y_train, y_test = train_test_split(X, Y, test_size = 0.2, random_state = 66)"
      ],
      "metadata": {
        "id": "ieWUgW9p46PP"
      },
      "execution_count": 275,
      "outputs": []
    },
    {
      "cell_type": "markdown",
      "source": [
        "# Create model with Embedding layer and Dot product\n",
        "Jeremy Howard provides a general rule of thumb about the number of embedding dimensions: embedding size = min(50, number of categories/2)"
      ],
      "metadata": {
        "id": "aJ4FmU06EomK"
      }
    },
    {
      "cell_type": "code",
      "source": [
        "# the number of embedding dimensions: embedding size = min(50, number of categories/2)\n",
        "embedding_dimension = 50\n",
        "\n",
        "# no of users and movies\n",
        "n_users = ratings_df['userId'].nunique()\n",
        "n_movies = ratings_df['movieId'].nunique()\n",
        "user_input = Input(shape=(1,))\n",
        "user_embeddings = Embedding(input_dim = n_users + 1, output_dim=embedding_dimension, input_length=1,\n",
        "                              name='User_Embedding') (user_input)\n",
        "user_vector = Flatten(name='User_Vector') (user_embeddings)\n",
        "\n",
        "\n",
        "# Movie Embeddings\n",
        "movie_input = Input(shape=(1,))\n",
        "movie_embeddings = Embedding(input_dim = n_movies + 1, output_dim=embedding_dimension, input_length=1,\n",
        "                               name='Movie_Embedding') (movie_input)\n",
        "movie_vector = Flatten(name='Movie_Vector') (movie_embeddings)\n",
        "\n",
        "\n",
        "# Dot Product\n",
        "merged_vectors = dot([user_vector, movie_vector], axes=1)\n",
        "model = Model([user_input, movie_input], merged_vectors)\n",
        "model.compile(loss='mean_squared_error', optimizer = 'Adam')"
      ],
      "metadata": {
        "id": "fpTHnqip7j52"
      },
      "execution_count": 277,
      "outputs": []
    },
    {
      "cell_type": "markdown",
      "source": [
        "# Train model"
      ],
      "metadata": {
        "id": "E_nkm0VFFCh-"
      }
    },
    {
      "cell_type": "code",
      "source": [
        "batch_size = 128\n",
        "epochs = 10\n",
        "history = model.fit(x=[x_train['userId'], x_train['movieId']], y=y_train, batch_size= batch_size, epochs=epochs,\n",
        "                    verbose= 2, validation_data=([x_test['userId'], x_test['movieId']], y_test))"
      ],
      "metadata": {
        "colab": {
          "base_uri": "https://localhost:8080/"
        },
        "id": "PeeIGKml8hIh",
        "outputId": "88e37647-0b12-4913-fa54-16075ad8bb45"
      },
      "execution_count": 278,
      "outputs": [
        {
          "output_type": "stream",
          "name": "stdout",
          "text": [
            "Epoch 1/10\n",
            "631/631 - 8s - loss: 12.3071 - val_loss: 7.7360 - 8s/epoch - 12ms/step\n",
            "Epoch 2/10\n",
            "631/631 - 6s - loss: 3.8194 - val_loss: 2.3262 - 6s/epoch - 10ms/step\n",
            "Epoch 3/10\n",
            "631/631 - 6s - loss: 1.6089 - val_loss: 1.6240 - 6s/epoch - 9ms/step\n",
            "Epoch 4/10\n",
            "631/631 - 6s - loss: 1.0830 - val_loss: 1.3907 - 6s/epoch - 9ms/step\n",
            "Epoch 5/10\n",
            "631/631 - 6s - loss: 0.8405 - val_loss: 1.2934 - 6s/epoch - 10ms/step\n",
            "Epoch 6/10\n",
            "631/631 - 6s - loss: 0.7012 - val_loss: 1.2462 - 6s/epoch - 9ms/step\n",
            "Epoch 7/10\n",
            "631/631 - 7s - loss: 0.6110 - val_loss: 1.2283 - 7s/epoch - 11ms/step\n",
            "Epoch 8/10\n",
            "631/631 - 6s - loss: 0.5495 - val_loss: 1.2246 - 6s/epoch - 10ms/step\n",
            "Epoch 9/10\n",
            "631/631 - 6s - loss: 0.5029 - val_loss: 1.2211 - 6s/epoch - 10ms/step\n",
            "Epoch 10/10\n",
            "631/631 - 6s - loss: 0.4639 - val_loss: 1.2271 - 6s/epoch - 9ms/step\n"
          ]
        }
      ]
    },
    {
      "cell_type": "markdown",
      "source": [
        "# Plot Loss Curves"
      ],
      "metadata": {
        "id": "jNGmQC5iFQx0"
      }
    },
    {
      "cell_type": "code",
      "source": [
        "# Get training and test loss histories\n",
        "training_loss = history.history['loss']\n",
        "test_loss = history.history['val_loss']\n",
        "\n",
        "# Create count of the number of epochs\n",
        "epoch_count = range(1, len(training_loss) + 1)\n",
        "\n",
        "# Visualize loss history\n",
        "plt.figure(figsize = (8,4))\n",
        "plt.plot(epoch_count, training_loss, 'r--')\n",
        "plt.plot(epoch_count, test_loss, 'b-')\n",
        "plt.legend(['Training Loss', 'Test Loss'])\n",
        "plt.xlabel('Epoch')\n",
        "plt.ylabel('Loss')\n",
        "plt.show()"
      ],
      "metadata": {
        "colab": {
          "base_uri": "https://localhost:8080/",
          "height": 388
        },
        "id": "IaGK_Yaedoft",
        "outputId": "7dbb1b33-0750-4372-e870-d92aa714c496"
      },
      "execution_count": 279,
      "outputs": [
        {
          "output_type": "display_data",
          "data": {
            "text/plain": [
              "<Figure size 800x400 with 1 Axes>"
            ],
            "image/png": "[encoded data removed]"
          },
          "metadata": {}
        }
      ]
    },
    {
      "cell_type": "markdown",
      "source": [
        "# Evaluate with Root Mean Square Error"
      ],
      "metadata": {
        "id": "n5qH2MITFVC-"
      }
    },
    {
      "cell_type": "code",
      "source": [
        "score = model.evaluate([x_test['userId'], x_test['movieId']], y_test)\n",
        "print()\n",
        "print('RMSE: {:.4f}'.format(np.sqrt(score)))"
      ],
      "metadata": {
        "colab": {
          "base_uri": "https://localhost:8080/"
        },
        "id": "_dD_QWznd1l-",
        "outputId": "433e8597-5e7e-4776-f868-3abb6dbb1381"
      },
      "execution_count": 280,
      "outputs": [
        {
          "output_type": "stream",
          "name": "stdout",
          "text": [
            "631/631 [==============================] - 1s 1ms/step - loss: 1.2271\n",
            "\n",
            "RMSE: 1.1077\n"
          ]
        }
      ]
    },
    {
      "cell_type": "markdown",
      "source": [
        "# Generate the personalized recommendations"
      ],
      "metadata": {
        "id": "2_cEc6_4FaiT"
      }
    },
    {
      "cell_type": "code",
      "source": [
        "user_id = np.array(int(input('User ID from 1 to 610: ')))\n",
        "moive_seen_idx =  ratings_df[ (ratings_df['userId']==user_id) ].index\n",
        "moive_seen = []\n",
        "movies_to_predict =  []\n",
        "for idx in moive_seen_idx:\n",
        "  moive_seen.append(ratings_df['movieId'][idx])\n",
        "for movie_id in movie:\n",
        "  if movie_id not in np.array(moive_seen):\n",
        "    movies_to_predict.append(movie_id)\n",
        "\n",
        "user_id_to_predict = np.array([user_id] * len(movies_to_predict))\n",
        "\n",
        "# Prepare the movie IDs for prediction\n",
        "movie_ids_to_predict = np.array(movies_to_predict)\n",
        "\n",
        "# Predict using the model\n",
        "predicted_ratings = model.predict([user_id_to_predict, movie_ids_to_predict])\n",
        "\n",
        "# Combine movie IDs with their predicted ratings\n",
        "movie_predictions = list(zip(movies_to_predict, predicted_ratings))\n",
        "\n",
        "# Sort predictions based on predicted ratings\n",
        "sorted_predictions = sorted(movie_predictions, key=lambda x: x[1], reverse=True)\n",
        "# Print top 10 recommendations\n",
        "print(f\"Top recommendations for user #{user_id}:\")\n",
        "for movie_id, predicted_rating in sorted_predictions[:10]:\n",
        "    print(f\"Movie: {movies_df.loc[movie_id-1].title}\")"
      ],
      "metadata": {
        "colab": {
          "base_uri": "https://localhost:8080/"
        },
        "id": "MBLZhfb3lS4K",
        "outputId": "5d5eab52-41fe-4c94-e101-db9099235839"
      },
      "execution_count": 281,
      "outputs": [
        {
          "output_type": "stream",
          "name": "stdout",
          "text": [
            "User ID from 1 to 610: 610\n",
            "264/264 [==============================] - 1s 2ms/step\n",
            "Top recommendations for user #610:\n",
            "Movie: Lonely Are the Brave (1962)\n",
            "Movie: Airplane! (1980)\n",
            "Movie: Sydney White (2007)\n",
            "Movie: Where the Day Takes You (1992)\n",
            "Movie: I Know Where I'm Going! (1945)\n",
            "Movie: Safety of Objects, The (2001)\n",
            "Movie: Brice Man, The (Brice de Nice) (2005)\n",
            "Movie: Julien Donkey-Boy (1999)\n",
            "Movie: The Road Within (2014)\n",
            "Movie: Brown Bunny, The (2003)\n"
          ]
        }
      ]
    }
  ]
}